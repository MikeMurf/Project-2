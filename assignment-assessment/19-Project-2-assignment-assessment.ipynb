{
 "cells": [
  {
   "cell_type": "markdown",
   "id": "a7840808",
   "metadata": {},
   "source": [
    "### 19-Project-2: assignment-assessment\n",
    "\n",
    "\n",
    "\n",
    "**\"Completed Analysis Uploaded to GitHub:\n",
    "Detailed readme file in the repo which was excellent.**\n",
    "\n",
    "**Perfect repo structure - I couldn't tell it apart from a professionally maintained repo. Great work!\n",
    "Visualisations: Great app all the individual components working together and the relevant visuals chosen for given use case.\n",
    "Excellent explanation of the project theme, app architecture and the attributes / interactivity included within each visual in the app.\n",
    "Analysis and Conclusion: I really liked that you included the details of the libraries included within the development of the app.\n",
    "Group Presentation: Good to see everyone participating in the presentation.\n",
    "I especially liked the live demo of all of the components of the app working together during the presentation.\n",
    "Slide Deck: Slides were to the point and relevant to the material and looked professional with visually clean graphics and text.\n",
    "Some of the steps involving the coding approach and the data wrangling process could be explained a bit better but everything else was spot on with the right amount of infomation being shared within the presentation. Keep up the great work!\"** \n",
    "\n"
   ]
  },
  {
   "cell_type": "raw",
   "id": "4c342e75",
   "metadata": {},
   "source": []
  }
 ],
 "metadata": {
  "kernelspec": {
   "display_name": "Python 3 (ipykernel)",
   "language": "python",
   "name": "python3"
  },
  "language_info": {
   "codemirror_mode": {
    "name": "ipython",
    "version": 3
   },
   "file_extension": ".py",
   "mimetype": "text/x-python",
   "name": "python",
   "nbconvert_exporter": "python",
   "pygments_lexer": "ipython3",
   "version": "3.9.7"
  }
 },
 "nbformat": 4,
 "nbformat_minor": 5
}
